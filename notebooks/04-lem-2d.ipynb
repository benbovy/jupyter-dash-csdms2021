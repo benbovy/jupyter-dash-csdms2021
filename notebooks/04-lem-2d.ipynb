{
 "cells": [
  {
   "cell_type": "markdown",
   "id": "3d96ba56-a349-4d3a-a2da-2be0bcd349c4",
   "metadata": {},
   "source": [
    "# 2D landscape evolution model (bedrock channel SPL + hillslope diffusion)\n",
    "\n",
    "The code below runs a simple landscape evolution model using `fastscape`. It starts from extracted elevation data (SRTM) using the [bmi-topography](https://github.com/csdms/bmi-topography) package.\n",
    "\n",
    "## Goal\n",
    "\n",
    "- Leverage different Python tools (connecting the dots) to create an interactive, nice-looking dashboard.\n",
    "- We'll use `ipywidgets`, `ipyleaflet` and `ipygany`."
   ]
  },
  {
   "cell_type": "code",
   "execution_count": null,
   "id": "b093a074-517e-44ac-bd72-5cb9f0bf1d21",
   "metadata": {},
   "outputs": [],
   "source": [
    "import numpy as np\n",
    "import matplotlib.pyplot as plt\n",
    "import xarray as xr\n",
    "import xsimlab as xs\n",
    "\n",
    "from bmi_topography import Topography\n",
    "from fastscape.models import basic_model\n",
    "from fastscape.processes import SurfaceTopography"
   ]
  },
  {
   "cell_type": "code",
   "execution_count": null,
   "id": "e4884829-e9f2-4ff6-8a35-84a202d92b3e",
   "metadata": {},
   "outputs": [],
   "source": [
    "def extract_dem(north=40.25, south=39.75, west=-105.25, east=-104.75):\n",
    "    \"\"\"Extract elevation data using a region of interest.\"\"\"\n",
    "    \n",
    "    params = {\n",
    "        'dem_type': 'SRTMGL3',\n",
    "         'south': south,\n",
    "         'north': north,\n",
    "         'west': west,\n",
    "         'east': east,\n",
    "         'output_format': 'GTiff',\n",
    "         'cache_dir': '~/.bmi_topography'\n",
    "    }\n",
    "    \n",
    "    topo = Topography(**params)\n",
    "\n",
    "    print(\"Fetch topographic data...\")\n",
    "    topo.fetch()\n",
    "\n",
    "    print(\"Load dataset...\")\n",
    "    return topo.load()"
   ]
  },
  {
   "cell_type": "code",
   "execution_count": null,
   "id": "9d309a35-b707-4d63-96b2-f9c32497aa66",
   "metadata": {},
   "outputs": [],
   "source": [
    "@xs.process\n",
    "class InitDEM:\n",
    "    dem = xs.variable(dims=('y', 'x'))\n",
    "    elevation = xs.foreign(SurfaceTopography, 'elevation', intent='out')\n",
    "    \n",
    "    def initialize(self):\n",
    "        self.elevation = self.dem\n",
    "        \n",
    "\n",
    "model = basic_model.update_processes({'init_topography': InitDEM})\n",
    "\n",
    "\n",
    "def run_model(dem, U=1e-5, K=2e-6, m=0.6, n=1.5, D=1e-2):\n",
    "    \n",
    "    resolution = 90\n",
    "    grid_shape = [dem.sizes['y'], dem.sizes['x']]\n",
    "    grid_length = list(np.array(grid_shape) * resolution)\n",
    "    print(grid_length)\n",
    "\n",
    "    in_ds = xs.create_setup(\n",
    "        model=model,\n",
    "        clocks={\n",
    "            'time': np.arange(0, 1e6 + 1e4, 2e4),\n",
    "            'out': np.arange(0, 1e6 + 1e4, 2e4),\n",
    "        },\n",
    "        master_clock='time',\n",
    "        input_vars={\n",
    "            'grid__shape': grid_shape,\n",
    "            'grid__length': grid_length,\n",
    "            'boundary__status': 'fixed_value',\n",
    "            'init_topography__dem': dem.squeeze().astype('d'),\n",
    "            'uplift__rate': U,\n",
    "            'spl': {\n",
    "                'k_coef': K,\n",
    "                'area_exp': m,\n",
    "                'slope_exp': n\n",
    "            },\n",
    "            'diffusion__diffusivity': D\n",
    "        },\n",
    "        output_vars={\n",
    "            'topography__elevation': 'out',\n",
    "        }\n",
    "    )\n",
    "    \n",
    "    print(\"Starting landscape evolution model run...\")\n",
    "    \n",
    "    with xs.monitoring.ProgressBar():\n",
    "        out_ds = in_ds.xsimlab.run(model=model)\n",
    "    \n",
    "    return out_ds"
   ]
  },
  {
   "cell_type": "code",
   "execution_count": null,
   "id": "379540fe-ee3f-407b-b89f-372ea7a8e199",
   "metadata": {},
   "outputs": [],
   "source": [
    "dem = extract_dem()\n",
    "out_ds = run_model(dem)\n",
    "            "
   ]
  },
  {
   "cell_type": "code",
   "execution_count": null,
   "id": "24ef8ec2-630d-49ff-b827-b724c28b207d",
   "metadata": {},
   "outputs": [],
   "source": [
    "out_ds"
   ]
  },
  {
   "cell_type": "code",
   "execution_count": null,
   "id": "05053d08-22b2-4203-a1bf-b1cd716b1a66",
   "metadata": {},
   "outputs": [],
   "source": [
    "out_ds.topography__elevation.isel(out=-1).plot(aspect=1, size=10);"
   ]
  },
  {
   "cell_type": "markdown",
   "id": "afa9726b-e62e-45cd-a28a-341ee7402de4",
   "metadata": {},
   "source": [
    "---"
   ]
  },
  {
   "cell_type": "markdown",
   "id": "b95e1968-98af-49f2-83ee-f9a3d78b6a0c",
   "metadata": {},
   "source": [
    "## Exercise 1\n",
    "\n",
    "Create a map widget that we can use to select a region of interest that is then used to extract DEM data and run a simulation.\n",
    "\n",
    "Hints:\n",
    "\n",
    "- use `ipywidgets.DrawControl` to draw a ROI (rectangle) and get the its coordinates\n",
    "- create a `Button` widget with a callback function that will get the ROI coordinates, download/load DEM data and run the simulation\n",
    "- create an `Output` widget to log the simulation progress and show the resulting Xarray Dataset"
   ]
  },
  {
   "cell_type": "code",
   "execution_count": null,
   "id": "b06bd039-8f0f-419d-b742-0b7245fe0f1a",
   "metadata": {},
   "outputs": [],
   "source": []
  },
  {
   "cell_type": "markdown",
   "id": "cc9e9e6c-f2b9-404b-a011-0f190014d04f",
   "metadata": {},
   "source": [
    "## Exercise 2\n",
    "\n",
    "Let's visualize the final elevation (model output).\n",
    "\n",
    "Hints:\n",
    "\n",
    "- create a new `Output` widget that will contain an `ipygany.Scene` widget\n",
    "- create the ipygany scene using `ipygany.Polymesh` and `ipygany.IsoColor`.\n",
    "    - you can get the final elevation using `ds_out.topography__elevation.isel(out=-1)` from the output xarray Dataset\n",
    "    - do `from utils import get_mesh_elements` and use this utility function to get the elevation array as an unstructured mesh (needed by `ipygany.Polymesh`)\n",
    "\n",
    "Bonuses:\n",
    "\n",
    "- add widgets for setting custom model parameter values\n",
    "- animate the model outputs in the ipygany scene (there's an example here: https://nbviewer.jupyter.org/github/QuantStack/ipygany/blob/master/examples/ipygany.ipynb) "
   ]
  },
  {
   "cell_type": "code",
   "execution_count": null,
   "id": "71e334bc-b591-4ac2-ae7e-319871e1b954",
   "metadata": {},
   "outputs": [],
   "source": []
  },
  {
   "cell_type": "code",
   "execution_count": null,
   "id": "e5c011ab-9e6f-4b60-8362-9dfc1f7c5308",
   "metadata": {},
   "outputs": [],
   "source": []
  }
 ],
 "metadata": {
  "kernelspec": {
   "display_name": "Python 3",
   "language": "python",
   "name": "python3"
  },
  "language_info": {
   "codemirror_mode": {
    "name": "ipython",
    "version": 3
   },
   "file_extension": ".py",
   "mimetype": "text/x-python",
   "name": "python",
   "nbconvert_exporter": "python",
   "pygments_lexer": "ipython3",
   "version": "3.9.4"
  }
 },
 "nbformat": 4,
 "nbformat_minor": 5
}
