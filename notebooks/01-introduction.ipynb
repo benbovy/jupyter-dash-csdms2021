{
 "cells": [
  {
   "cell_type": "markdown",
   "metadata": {
    "extensions": {
     "jupyter_dashboards": {
      "activeView": "grid_default",
      "views": {
       "grid_default": {
        "col": 0,
        "height": 10,
        "hidden": true,
        "row": 0,
        "width": 4
       }
      }
     }
    }
   },
   "source": [
    "# Building Interactive Dashboards for Earth Surface Processes Modeling with Python and Jupyter\n",
    "\n",
    "### Benoît Bovy - CSDMS 2021\n",
    "\n",
    "Changing Landscapes and Seascapes, Modeling for **Discovery, Decision Making, and Communication**\n",
    "\n",
    "A perfect tool for discovery, decision making and communication? **Dashboards!**\n",
    "\n",
    "- one example: https://bokeh.oggm.org/explorer/app (world glaciers explorer)\n",
    "- more examples (geomorphology) below"
   ]
  },
  {
   "cell_type": "markdown",
   "metadata": {
    "extensions": {
     "jupyter_dashboards": {
      "activeView": "grid_default",
      "views": {
       "grid_default": {
        "col": null,
        "height": 2,
        "hidden": true,
        "row": null,
        "width": 2
       }
      }
     }
    }
   },
   "source": [
    "## How to install/run the notebooks of this clinic?\n",
    "\n",
    "Follow the instructions on https://github.com/benbovy/jupyter-dash-csdms2021 (I'd suggest using the conda/mamba option).\n",
    "\n",
    "Please report any issue here (or using the chat): https://hackmd.io/@K3vJcQ1QTI27pu-k4hNtjQ/csdms-2021-jupyter-dash/edit"
   ]
  },
  {
   "cell_type": "markdown",
   "metadata": {
    "extensions": {
     "jupyter_dashboards": {
      "activeView": "grid_default",
      "views": {
       "grid_default": {
        "col": null,
        "height": 2,
        "hidden": true,
        "row": null,
        "width": 2
       }
      }
     }
    }
   },
   "source": [
    "<br><br>"
   ]
  },
  {
   "cell_type": "markdown",
   "metadata": {
    "extensions": {
     "jupyter_dashboards": {
      "activeView": "grid_default",
      "views": {
       "grid_default": {
        "col": null,
        "height": 2,
        "hidden": true,
        "row": null,
        "width": 2
       }
      }
     }
    }
   },
   "source": [
    "## Outline\n",
    "\n",
    "- [Introduction](01-introduction.ipynb): Python dashboarding ecosystem, Jupyter/Voilà, Ipywidgets...\n",
    "- [Ipywidgets basic tutorial](02-basic-tutorial.ipynb)\n",
    "- Creating [more](03-channel-erosion-1d.ipynb) [advanced](04-lem-2d) widgets for topographic analysis and landscape evolution modeling:\n",
    "- Brainstorming?\n",
    "\n",
    "\n",
    "Let's gather ideas on interactive dashboards for surface processes modeling: https://hackmd.io/@K3vJcQ1QTI27pu-k4hNtjQ/csdms-2021-jupyter-dash/edit"
   ]
  },
  {
   "cell_type": "markdown",
   "metadata": {
    "extensions": {
     "jupyter_dashboards": {
      "activeView": "grid_default",
      "views": {
       "grid_default": {
        "col": null,
        "height": 2,
        "hidden": true,
        "row": null,
        "width": 2
       }
      }
     }
    }
   },
   "source": [
    "<br><br>"
   ]
  },
  {
   "cell_type": "markdown",
   "metadata": {
    "extensions": {
     "jupyter_dashboards": {
      "activeView": "grid_default",
      "views": {
       "grid_default": {
        "col": null,
        "height": 2,
        "hidden": true,
        "row": null,
        "width": 2
       }
      }
     }
    }
   },
   "source": [
    "## The Python dashboarding ecosystem\n",
    "\n",
    "Various tools within an ecosystem that is rapidly evolving.\n",
    "\n",
    "![python-dashboarding-ecosystem](https://miro.medium.com/max/1000/1*uVUHsMpQVK5jw4Ca7WoS1A.png)\n",
    "\n",
    "- [Streamlit](https://streamlit.io/)\n",
    "- [Dash](https://plotly.com/dash/)\n",
    "- [Panel](https://panel.holoviz.org/)\n",
    "- [Voila](https://voila.readthedocs.io/en/stable/)\n",
    "\n",
    "Detailed comparison: [Streamlit vs Dash vs Voilà vs Panel — Battle of The Python Dashboarding Giants - Stephen Kilcommins (March 2021)](https://medium.datadriveninvestor.com/streamlit-vs-dash-vs-voil%C3%A0-vs-panel-battle-of-the-python-dashboarding-giants-177c40b9ea57)\n",
    "\n",
    "We will use `Voila` in this clinic: it is tightly integrated with Jupyter and Ipywidgets."
   ]
  },
  {
   "cell_type": "markdown",
   "metadata": {
    "extensions": {
     "jupyter_dashboards": {
      "activeView": "grid_default",
      "views": {
       "grid_default": {
        "col": null,
        "height": 2,
        "hidden": true,
        "row": null,
        "width": 2
       }
      }
     }
    }
   },
   "source": [
    "<br><br>"
   ]
  },
  {
   "cell_type": "markdown",
   "metadata": {
    "extensions": {
     "jupyter_dashboards": {
      "activeView": "grid_default",
      "views": {
       "grid_default": {
        "col": null,
        "height": 2,
        "hidden": true,
        "row": null,
        "width": 2
       }
      }
     }
    }
   },
   "source": [
    "## Jupyter and Ipywidgets\n",
    "\n",
    "### Jupyter notebooks\n",
    "\n",
    "- may contain narrative text, live code, equations and visualizations all in a single document\n",
    "- a very convenient and powerful way to communicate research results, teach (geo)sciences, etc.\n",
    "\n",
    "### Jupyter widgets (Ipywidgets)\n",
    "\n",
    "- https://ipywidgets.readthedocs.io/en/stable/\n",
    "- adds more interactivity!\n",
    "- allows interacting with code using graphical components & controls.\n",
    "- leverage web browsers (javascript)\n",
    "- basic widgets built-in (buttons, text inputs, sliders, dropdowns, etc.)\n",
    "- provides a framework for 3rd party (often more advanced) widgets, e.g.,\n",
    "    - [Ipympl](https://github.com/matplotlib/ipympl): interactive (matplotlib) figures\n",
    "    - [Ipyleaflet](https://ipyleaflet.readthedocs.io): 2D tiled maps\n",
    "    - [Pydeck](https://pydeck.gl/): 3D tiled maps\n",
    "    - [Ipygany](https://github.com/QuantStack/ipygany): 3D scientific visualization\n",
    "    - [Ipycanvas](https://github.com/martinRenou/ipycanvas): interactive drawing\n",
    "    - [Ipydatagrid](https://github.com/bloomberg/ipydatagrid), [Ipytree](https://github.com/QuantStack/ipytree), [Ipysheet](https://github.com/QuantStack/ipysheet), and much more...\n",
    "    \n",
    "### Jupyter notebook/lab essentials\n",
    "\n",
    "- to open a notebook: double-click it in the file browser (left-pane)\n",
    "- to hide the file browser: click on the folder icon in the left-pane\n",
    "- to run a single code cell in the notebook: Push Shift and Enter, or use the \"play\" button\n"
   ]
  },
  {
   "cell_type": "code",
   "execution_count": 1,
   "metadata": {
    "extensions": {
     "jupyter_dashboards": {
      "activeView": "grid_default",
      "views": {
       "grid_default": {
        "col": null,
        "height": 2,
        "hidden": true,
        "row": null,
        "width": 2
       }
      }
     }
    }
   },
   "outputs": [
    {
     "data": {
      "text/plain": [
       "2"
      ]
     },
     "execution_count": 8,
     "metadata": {},
     "output_type": "execute_result"
    }
   ],
   "source": [
    "1 + 1"
   ]
  },
  {
   "cell_type": "markdown",
   "metadata": {
    "extensions": {
     "jupyter_dashboards": {
      "activeView": "grid_default",
      "views": {
       "grid_default": {
        "col": null,
        "height": 2,
        "hidden": true,
        "row": null,
        "width": 2
       }
      }
     }
    }
   },
   "source": [
    "<br><br>"
   ]
  },
  {
   "cell_type": "markdown",
   "metadata": {
    "extensions": {
     "jupyter_dashboards": {
      "activeView": "grid_default",
      "views": {
       "grid_default": {
        "col": 0,
        "height": 3,
        "hidden": true,
        "row": 0,
        "width": 12
       }
      }
     }
    }
   },
   "source": [
    "## Some examples..."
   ]
  },
  {
   "cell_type": "markdown",
   "metadata": {
    "extensions": {
     "jupyter_dashboards": {
      "activeView": "grid_default",
      "views": {
       "grid_default": {
        "col": 0,
        "height": 3,
        "hidden": false,
        "row": 0,
        "width": 12
       }
      }
     }
    }
   },
   "source": [
    "#### The \"Gilbert Board\"\n",
    "\n",
    "- code repository: https://github.com/fastscape-lem/gilbert-board\n",
    "- built using [fastscape](https://github.com/fastscape-lem), `ipywidgets` and `ipycanvas`."
   ]
  },
  {
   "cell_type": "code",
   "execution_count": 2,
   "metadata": {
    "extensions": {
     "jupyter_dashboards": {
      "activeView": "grid_default",
      "views": {
       "grid_default": {
        "col": 0,
        "height": 12,
        "hidden": false,
        "row": 3,
        "width": 12
       }
      }
     }
    }
   },
   "outputs": [
    {
     "data": {
      "application/vnd.jupyter.widget-view+json": {
       "model_id": "349784136a294fb499be2f0750da8fd1",
       "version_major": 2,
       "version_minor": 0
      },
      "text/plain": [
       "HBox(children=(MultiCanvas(height=660, width=510), VBox(children=(HBox(children=(Button(description='Start', i…"
      ]
     },
     "metadata": {},
     "output_type": "display_data"
    }
   ],
   "source": [
    "from gboard import Board\n",
    "\n",
    "board = Board(scale=3)\n",
    "board.show()"
   ]
  },
  {
   "cell_type": "markdown",
   "metadata": {
    "extensions": {
     "jupyter_dashboards": {
      "activeView": "grid_default",
      "views": {
       "grid_default": {
        "col": null,
        "height": 2,
        "hidden": true,
        "row": null,
        "width": 2
       }
      }
     }
    }
   },
   "source": [
    "#### LEM run 3D visualization (like Paraview in the notebook)\n",
    "\n",
    "A `fastscape` run shown with [ipyfastscape](https://github.com/fastscape-lem/ipyfastscape), built on top of `ipywidgets` and `ipygany`."
   ]
  },
  {
   "cell_type": "code",
   "execution_count": 3,
   "metadata": {
    "extensions": {
     "jupyter_dashboards": {
      "activeView": "grid_default",
      "views": {
       "grid_default": {
        "col": null,
        "height": 2,
        "hidden": true,
        "row": null,
        "width": 2
       }
      }
     }
    }
   },
   "outputs": [
    {
     "data": {
      "application/vnd.jupyter.widget-view+json": {
       "model_id": "",
       "version_major": 2,
       "version_minor": 0
      },
      "text/plain": [
       "Output(layout=Layout(height='640px'))"
      ]
     },
     "metadata": {},
     "output_type": "display_data"
    }
   ],
   "source": [
    "import xarray as xr\n",
    "from ipyfastscape import TopoViz3d\n",
    "\n",
    "ds = xr.load_dataset('assets/fan_simulation.nc')\n",
    "\n",
    "app = TopoViz3d(ds, time_dim='out')\n",
    "app.show()"
   ]
  },
  {
   "cell_type": "code",
   "execution_count": null,
   "metadata": {
    "extensions": {
     "jupyter_dashboards": {
      "activeView": "grid_default",
      "views": {
       "grid_default": {
        "col": null,
        "height": 2,
        "hidden": true,
        "row": null,
        "width": 2
       }
      }
     }
    }
   },
   "outputs": [],
   "source": [
    "app.widget.close()"
   ]
  },
  {
   "cell_type": "code",
   "execution_count": null,
   "metadata": {
    "extensions": {
     "jupyter_dashboards": {
      "activeView": "grid_default",
      "views": {
       "grid_default": {
        "col": null,
        "height": 2,
        "hidden": true,
        "row": null,
        "width": 2
       }
      }
     }
    }
   },
   "outputs": [],
   "source": []
  }
 ],
 "metadata": {
  "extensions": {
   "jupyter_dashboards": {
    "activeView": "grid_default",
    "version": 1,
    "views": {
     "grid_default": {
      "cellMargin": 2,
      "defaultCellHeight": 60,
      "maxColumns": 12,
      "name": "grid",
      "type": "grid"
     }
    }
   }
  },
  "kernelspec": {
   "display_name": "Python 3",
   "language": "python",
   "name": "python3"
  },
  "language_info": {
   "codemirror_mode": {
    "name": "ipython",
    "version": 3
   },
   "file_extension": ".py",
   "mimetype": "text/x-python",
   "name": "python",
   "nbconvert_exporter": "python",
   "pygments_lexer": "ipython3",
   "version": "3.9.4"
  }
 },
 "nbformat": 4,
 "nbformat_minor": 4
}
